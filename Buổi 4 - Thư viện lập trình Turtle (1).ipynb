{
 "cells": [
  {
   "cell_type": "markdown",
   "id": "ffbf069d",
   "metadata": {},
   "source": [
    "### PIP là gì?\n",
    "\n",
    "PIP là công cụ giúp cài đặt các thư viện và công cụ của Python\n",
    "\n",
    "Lệnh kiểm tra phiên bản PIP\n",
    "\n",
    "`pip3 --version`\n",
    "\n",
    "### Thư viện Turtle\n",
    "Turtle là thư viện giúp chúng ta vẽ đồ họa 2D\n",
    "\n",
    "Thư viện Turtle dùng hệ trục tọa độ Oxy với tọa độ (0,0) nằm ngay giữa khung cửa sổ\n",
    "\n",
    "Cài đặt thư viện Turtle bằng lệnh:\n",
    "\n",
    "`pip3 install turtle`\n",
    "\n",
    "##### Nguồn tài liệu tham khảo: https://docs.python.org/3/library/turtle.html\n",
    "\n",
    "### Lệnh thêm thư viện Turtle\n",
    "\n",
    "`import turtle`\n",
    "\n",
    "### Lệnh tạo đối tượng Turtle\n",
    "`t = turtle.Turtle()`\n",
    "\n",
    "t có thể là tên bất kỳ\n",
    "\n",
    "Thực hiện thử:"
   ]
  },
  {
   "cell_type": "code",
   "execution_count": 1,
   "id": "ecad2c83",
   "metadata": {},
   "outputs": [],
   "source": [
    "import turtle\n",
    "t = turtle.Turtle()"
   ]
  },
  {
   "cell_type": "code",
   "execution_count": 2,
   "id": "97c36841",
   "metadata": {},
   "outputs": [
    {
     "ename": "SyntaxError",
     "evalue": "invalid syntax (Temp/ipykernel_6684/3081084853.py, line 3)",
     "output_type": "error",
     "traceback": [
      "\u001b[1;36m  File \u001b[1;32m\"C:\\Users\\DELL\\AppData\\Local\\Temp/ipykernel_6684/3081084853.py\"\u001b[1;36m, line \u001b[1;32m3\u001b[0m\n\u001b[1;33m    Lệnh tiến tới\u001b[0m\n\u001b[1;37m         ^\u001b[0m\n\u001b[1;31mSyntaxError\u001b[0m\u001b[1;31m:\u001b[0m invalid syntax\n"
     ]
    }
   ],
   "source": [
    "# Các lệnh di chuyển\n",
    "\n",
    "Lệnh tiến tới\n",
    "\n",
    "`t.fordward(5)` hoặc `t.fd(5)`\n",
    "\n",
    "Lệnh lùi lại\n",
    "\n",
    "`t.back(5)` hoặc `t.backword(5)` hoặc `t.fb(5)`\n",
    "\n",
    "Lệnh rẽ phải:\n",
    "\n",
    "`t.right(45)` hoặc `t.rt(45)`\n",
    "\n",
    "Lệnh rẽ trái:\n",
    "\n",
    "`t.left(45)` hoặc `t.lt(45)`\n",
    "\n",
    "Thực hành về hình vuông:\n",
    "\n",
    "![image.png](attachment:image.png)"
   ]
  },
  {
   "cell_type": "code",
   "execution_count": 3,
   "id": "a29f69fb",
   "metadata": {},
   "outputs": [],
   "source": [
    "t.forward(5)\n",
    "t.back(5)\n",
    "t.right(45)\n",
    "t.left (45)\n"
   ]
  },
  {
   "cell_type": "markdown",
   "id": "0b9d867b",
   "metadata": {},
   "source": [
    "### Lệnh lặp\n",
    "\n",
    "`for i in range(5):`\n",
    "\n",
    "Vẽ hình vuông bằng lệnh lặp:"
   ]
  },
  {
   "cell_type": "code",
   "execution_count": 4,
   "id": "f198c5c2",
   "metadata": {},
   "outputs": [],
   "source": [
    "for i in range (4):\n",
    "    t.forward(100)\n",
    "    t.left(90)"
   ]
  },
  {
   "attachments": {
    "image.png": {
     "image/png": "[encoded data removed]"
    }
   },
   "cell_type": "markdown",
   "id": "c5ce1cb8",
   "metadata": {},
   "source": [
    "Thực hành vẽ 2 hình vuông:\n",
    "\n",
    "![image.png](attachment:image.png)\n",
    "\n",
    "##### Gợi ý: sủ dụng lệnh `t.penup()` và `t.pendown()`"
   ]
  },
  {
   "cell_type": "code",
   "execution_count": 5,
   "id": "14c10c14",
   "metadata": {},
   "outputs": [],
   "source": [
    "for i in range (4):\n",
    "    t.forward(100)\n",
    "    t.left(90)\n",
    "t.penup()\n",
    "t.forward(200)\n",
    "t.pendown()\n",
    "for i in range (4):\n",
    "    t.forward(100)\n",
    "    t.left(90)"
   ]
  },
  {
   "cell_type": "code",
   "execution_count": null,
   "id": "cccb6b65",
   "metadata": {},
   "outputs": [],
   "source": [
    "### Lệnh đổi màu fill và màu nét vẽ\n",
    "\n",
    "`t.color(màu nét vẽ, màu fill)`\n",
    "\n",
    "Ví dụ: `t.color(\"green\",\"yellow\")`\n",
    "\n",
    "### Lệnh bắt đầu fill màu\n",
    "\n",
    "`t.begin_fill()`\n",
    "\n",
    "### Lệnh kết thúc fill màu\n",
    "\n",
    "`t.end_fill()`\n",
    "\n",
    "Vẽ hình tam giác đầu với màu như sau:\n",
    "\n",
    "![image.png](attachment:image.png)"
   ]
  },
  {
   "cell_type": "code",
   "execution_count": 1,
   "id": "5bea5c63",
   "metadata": {},
   "outputs": [],
   "source": [
    "import turtle\n",
    "t = turtle.Turtle()\n",
    "t.color(\"green\",\"yellow\")\n",
    "t.begin_fill()\n",
    "for i in range(3):\n",
    "    t.forward(100)\n",
    "    t.left(120)\n",
    "t.end_fill()"
   ]
  },
  {
   "cell_type": "markdown",
   "id": "a70b6d6c",
   "metadata": {},
   "source": [
    "# BÀI TẬP\n",
    "\n",
    "## Vẽ hình lục giác:"
   ]
  },
  {
   "cell_type": "code",
   "execution_count": 4,
   "id": "512178a6",
   "metadata": {},
   "outputs": [],
   "source": [
    "import turtle\n",
    "t = turtle.Turtle()\n",
    "t.color(\"green\",\"red\")\n",
    "t.begin_fill()\n",
    "for i in range(6):\n",
    "    t.forward(100)\n",
    "    t.left(60)\n",
    "t.end_fill()"
   ]
  },
  {
   "cell_type": "markdown",
   "id": "56e3ab87",
   "metadata": {},
   "source": [
    "## Vẽ hình thang cân:"
   ]
  },
  {
   "cell_type": "code",
   "execution_count": 1,
   "id": "3e1e89d2",
   "metadata": {},
   "outputs": [],
   "source": [
    "import turtle\n",
    "t = turtle.Turtle()\n",
    "t.forward(200)\n",
    "t.left(120)\n",
    "t.forward(100)\n",
    "t.left(60)\n",
    "t.forward(100)\n",
    "t.left(60)\n",
    "t.forward(100)"
   ]
  },
  {
   "cell_type": "markdown",
   "id": "a1749623",
   "metadata": {},
   "source": [
    "## Vẽ hình bình hành:"
   ]
  },
  {
   "cell_type": "code",
   "execution_count": null,
   "id": "d3a74899",
   "metadata": {},
   "outputs": [],
   "source": [
    "t.forward(100)\n",
    "t.left(60)\n",
    "t.forward(80)\n",
    "t.left(120)\n",
    "t.forward(100)\n",
    "t.left(120)\n",
    "t.forward(80)"
   ]
  },
  {
   "cell_type": "code",
   "execution_count": null,
   "id": "1db58c26",
   "metadata": {},
   "outputs": [],
   "source": [
    "### Vẽ hình ngôi sao:\n",
    "\n",
    "![image.png](attachment:image.png)"
   ]
  },
  {
   "cell_type": "markdown",
   "id": "67c1e691",
   "metadata": {},
   "source": [
    "## Vẽ hình tròn\n",
    "\n",
    "Vẽ hình tròn bằng lệnh fordward và backward:"
   ]
  },
  {
   "cell_type": "code",
   "execution_count": 2,
   "id": "0dd4999a",
   "metadata": {},
   "outputs": [],
   "source": [
    "import turtle\n",
    "t = turtle.Turtle()\n",
    "for i in range(720):\n",
    "    t.fd(1)\n",
    "    t.lt(1)"
   ]
  },
  {
   "cell_type": "markdown",
   "id": "969e5bfc",
   "metadata": {},
   "source": [
    "Vẽ hình tròn bằng lệnh `t.circle()`"
   ]
  },
  {
   "cell_type": "code",
   "execution_count": null,
   "id": "6b196024",
   "metadata": {},
   "outputs": [],
   "source": []
  },
  {
   "attachments": {
    "image.png": {
     "image/png": "[encoded data removed]"
    }
   },
   "cell_type": "markdown",
   "id": "f3ff7ada",
   "metadata": {},
   "source": [
    "### Vẽ hình sau:\n",
    "\n",
    "![image.png](attachment:image.png)"
   ]
  },
  {
   "cell_type": "code",
   "execution_count": null,
   "id": "84b81183",
   "metadata": {},
   "outputs": [],
   "source": []
  }
 ],
 "metadata": {
  "kernelspec": {
   "display_name": "Python 3 (ipykernel)",
   "language": "python",
   "name": "python3"
  },
  "language_info": {
   "codemirror_mode": {
    "name": "ipython",
    "version": 3
   },
   "file_extension": ".py",
   "mimetype": "text/x-python",
   "name": "python",
   "nbconvert_exporter": "python",
   "pygments_lexer": "ipython3",
   "version": "3.9.6"
  }
 },
 "nbformat": 4,
 "nbformat_minor": 5
}
